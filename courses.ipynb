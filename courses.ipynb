{
 "cells": [
  {
   "cell_type": "code",
   "execution_count": 62,
   "metadata": {
    "collapsed": true
   },
   "outputs": [],
   "source": [
    "import pandas as pd"
   ]
  },
  {
   "cell_type": "code",
   "execution_count": 63,
   "metadata": {
    "collapsed": false
   },
   "outputs": [
    {
     "data": {
      "text/html": [
       "<div>\n",
       "<style>\n",
       "    .dataframe thead tr:only-child th {\n",
       "        text-align: right;\n",
       "    }\n",
       "\n",
       "    .dataframe thead th {\n",
       "        text-align: left;\n",
       "    }\n",
       "\n",
       "    .dataframe tbody tr th {\n",
       "        vertical-align: top;\n",
       "    }\n",
       "</style>\n",
       "<table border=\"1\" class=\"dataframe\">\n",
       "  <thead>\n",
       "    <tr style=\"text-align: right;\">\n",
       "      <th></th>\n",
       "      <th>Образовательная программа</th>\n",
       "      <th>Направление</th>\n",
       "      <th>Text</th>\n",
       "      <th>Авторы</th>\n",
       "      <th>Кто читает</th>\n",
       "      <th>id</th>\n",
       "      <th>Когда читается</th>\n",
       "      <th>Преподаватели</th>\n",
       "      <th>Язык</th>\n",
       "      <th>Где читается</th>\n",
       "      <th>Уровень</th>\n",
       "      <th>Кредитов</th>\n",
       "      <th>Название</th>\n",
       "      <th>Статус</th>\n",
       "      <th>Прогр. уч. дисц.</th>\n",
       "    </tr>\n",
       "  </thead>\n",
       "  <tbody>\n",
       "    <tr>\n",
       "      <th>0</th>\n",
       "      <td>Прикладная математика и информатика</td>\n",
       "      <td>01.03.02. Прикладная математика и информатика</td>\n",
       "      <td>Федеральное государственное автономное образов...</td>\n",
       "      <td>['Большакова Елена Игоревна', 'Ефремова Наталь...</td>\n",
       "      <td>Департамент анализа данных и искусственного ин...</td>\n",
       "      <td>1</td>\n",
       "      <td>4-й курс, 1, 2 модуль</td>\n",
       "      <td>['Большакова Елена Игоревна']</td>\n",
       "      <td>русский</td>\n",
       "      <td>Факультет компьютерных наук</td>\n",
       "      <td>Бакалавриат</td>\n",
       "      <td>4.5</td>\n",
       "      <td>Автоматическая обработка текстов</td>\n",
       "      <td>Курс по выбору</td>\n",
       "      <td>/data/2017/01/24/1117084567/program-1561199725...</td>\n",
       "    </tr>\n",
       "    <tr>\n",
       "      <th>1</th>\n",
       "      <td>Прикладная математика и информатика</td>\n",
       "      <td>01.03.02. Прикладная математика и информатика</td>\n",
       "      <td>NaN</td>\n",
       "      <td>NaN</td>\n",
       "      <td>Департамент иностранных языков</td>\n",
       "      <td>2</td>\n",
       "      <td>1-й курс, 1-3 модуль</td>\n",
       "      <td>NaN</td>\n",
       "      <td>русский</td>\n",
       "      <td>Факультет компьютерных наук</td>\n",
       "      <td>Бакалавриат</td>\n",
       "      <td>2.0</td>\n",
       "      <td>Академическое письмо на английском языке</td>\n",
       "      <td>Факультатив</td>\n",
       "      <td>NaN</td>\n",
       "    </tr>\n",
       "    <tr>\n",
       "      <th>2</th>\n",
       "      <td>Прикладная математика и информатика</td>\n",
       "      <td>01.03.02. Прикладная математика и информатика</td>\n",
       "      <td>Правительство Российской Федерации Федеральное...</td>\n",
       "      <td>NaN</td>\n",
       "      <td>Департамент иностранных языков</td>\n",
       "      <td>3</td>\n",
       "      <td>4-й курс, 1-3 модуль</td>\n",
       "      <td>['Антонова Марина Борисовна', 'Бакулев Алексей...</td>\n",
       "      <td>русский</td>\n",
       "      <td>Факультет компьютерных наук</td>\n",
       "      <td>Бакалавриат</td>\n",
       "      <td>2.0</td>\n",
       "      <td>Академическое письмо на английском языке</td>\n",
       "      <td>Курс обязательный</td>\n",
       "      <td>/data/2016/11/03/1117075074/program-1510439985...</td>\n",
       "    </tr>\n",
       "    <tr>\n",
       "      <th>3</th>\n",
       "      <td>Прикладная математика и информатика</td>\n",
       "      <td>01.03.02. Прикладная математика и информатика</td>\n",
       "      <td>Правительство Российской Федерации\\n\\nФедераль...</td>\n",
       "      <td>['Авдеев Роман Сергеевич', 'Аржанцев Иван Влад...</td>\n",
       "      <td>Департамент больших данных и информационного п...</td>\n",
       "      <td>4</td>\n",
       "      <td>1-й курс, 4 модуль</td>\n",
       "      <td>['Авдеев Роман Сергеевич', 'Аржанцев Иван Влад...</td>\n",
       "      <td>русский</td>\n",
       "      <td>Факультет компьютерных наук</td>\n",
       "      <td>Бакалавриат</td>\n",
       "      <td>3.0</td>\n",
       "      <td>Алгебра</td>\n",
       "      <td>Курс обязательный</td>\n",
       "      <td>/data/2016/06/24/1117088637/program-1466791588...</td>\n",
       "    </tr>\n",
       "    <tr>\n",
       "      <th>4</th>\n",
       "      <td>Прикладная математика и информатика</td>\n",
       "      <td>01.03.02. Прикладная математика и информатика</td>\n",
       "      <td>Федеральное государственное автономное образов...</td>\n",
       "      <td>NaN</td>\n",
       "      <td>Департамент анализа данных и искусственного ин...</td>\n",
       "      <td>5</td>\n",
       "      <td>1-й курс, 4 модуль</td>\n",
       "      <td>['Густокашин Михаил Сергеевич', 'Евстропов Гле...</td>\n",
       "      <td>русский</td>\n",
       "      <td>Факультет компьютерных наук</td>\n",
       "      <td>Бакалавриат</td>\n",
       "      <td>5.0</td>\n",
       "      <td>Алгоритмы и структуры данных</td>\n",
       "      <td>Курс обязательный</td>\n",
       "      <td>/data/2017/04/21/1117080238/program-1560511769...</td>\n",
       "    </tr>\n",
       "  </tbody>\n",
       "</table>\n",
       "</div>"
      ],
      "text/plain": [
       "             Образовательная программа  \\\n",
       "0  Прикладная математика и информатика   \n",
       "1  Прикладная математика и информатика   \n",
       "2  Прикладная математика и информатика   \n",
       "3  Прикладная математика и информатика   \n",
       "4  Прикладная математика и информатика   \n",
       "\n",
       "                                     Направление  \\\n",
       "0  01.03.02. Прикладная математика и информатика   \n",
       "1  01.03.02. Прикладная математика и информатика   \n",
       "2  01.03.02. Прикладная математика и информатика   \n",
       "3  01.03.02. Прикладная математика и информатика   \n",
       "4  01.03.02. Прикладная математика и информатика   \n",
       "\n",
       "                                                Text  \\\n",
       "0  Федеральное государственное автономное образов...   \n",
       "1                                                NaN   \n",
       "2  Правительство Российской Федерации Федеральное...   \n",
       "3  Правительство Российской Федерации\\n\\nФедераль...   \n",
       "4  Федеральное государственное автономное образов...   \n",
       "\n",
       "                                              Авторы  \\\n",
       "0  ['Большакова Елена Игоревна', 'Ефремова Наталь...   \n",
       "1                                                NaN   \n",
       "2                                                NaN   \n",
       "3  ['Авдеев Роман Сергеевич', 'Аржанцев Иван Влад...   \n",
       "4                                                NaN   \n",
       "\n",
       "                                          Кто читает  id  \\\n",
       "0  Департамент анализа данных и искусственного ин...   1   \n",
       "1                     Департамент иностранных языков   2   \n",
       "2                     Департамент иностранных языков   3   \n",
       "3  Департамент больших данных и информационного п...   4   \n",
       "4  Департамент анализа данных и искусственного ин...   5   \n",
       "\n",
       "          Когда читается                                      Преподаватели  \\\n",
       "0  4-й курс, 1, 2 модуль                      ['Большакова Елена Игоревна']   \n",
       "1   1-й курс, 1-3 модуль                                                NaN   \n",
       "2   4-й курс, 1-3 модуль  ['Антонова Марина Борисовна', 'Бакулев Алексей...   \n",
       "3     1-й курс, 4 модуль  ['Авдеев Роман Сергеевич', 'Аржанцев Иван Влад...   \n",
       "4     1-й курс, 4 модуль  ['Густокашин Михаил Сергеевич', 'Евстропов Гле...   \n",
       "\n",
       "      Язык                 Где читается      Уровень  Кредитов  \\\n",
       "0  русский  Факультет компьютерных наук  Бакалавриат       4.5   \n",
       "1  русский  Факультет компьютерных наук  Бакалавриат       2.0   \n",
       "2  русский  Факультет компьютерных наук  Бакалавриат       2.0   \n",
       "3  русский  Факультет компьютерных наук  Бакалавриат       3.0   \n",
       "4  русский  Факультет компьютерных наук  Бакалавриат       5.0   \n",
       "\n",
       "                                   Название             Статус  \\\n",
       "0          Автоматическая обработка текстов     Курс по выбору   \n",
       "1  Академическое письмо на английском языке        Факультатив   \n",
       "2  Академическое письмо на английском языке  Курс обязательный   \n",
       "3                                   Алгебра  Курс обязательный   \n",
       "4              Алгоритмы и структуры данных  Курс обязательный   \n",
       "\n",
       "                                    Прогр. уч. дисц.  \n",
       "0  /data/2017/01/24/1117084567/program-1561199725...  \n",
       "1                                                NaN  \n",
       "2  /data/2016/11/03/1117075074/program-1510439985...  \n",
       "3  /data/2016/06/24/1117088637/program-1466791588...  \n",
       "4  /data/2017/04/21/1117080238/program-1560511769...  "
      ]
     },
     "execution_count": 63,
     "metadata": {},
     "output_type": "execute_result"
    }
   ],
   "source": [
    "data = pd.read_csv(\"data.csv\")\n",
    "data.head()"
   ]
  },
  {
   "cell_type": "code",
   "execution_count": 64,
   "metadata": {
    "collapsed": false
   },
   "outputs": [
    {
     "data": {
      "text/plain": [
       "74"
      ]
     },
     "execution_count": 64,
     "metadata": {},
     "output_type": "execute_result"
    }
   ],
   "source": [
    "data[data[\"Язык\"] != \"русский\"]\n",
    "len(data)"
   ]
  },
  {
   "cell_type": "markdown",
   "metadata": {},
   "source": [
    "Выберем те программы для которых есть их текствое описание"
   ]
  },
  {
   "cell_type": "code",
   "execution_count": 65,
   "metadata": {
    "collapsed": false
   },
   "outputs": [
    {
     "data": {
      "text/plain": [
       "65"
      ]
     },
     "execution_count": 65,
     "metadata": {},
     "output_type": "execute_result"
    }
   ],
   "source": [
    "data = data[data[\"Text\"].notnull()]\n",
    "len(data)"
   ]
  },
  {
   "cell_type": "markdown",
   "metadata": {},
   "source": [
    "Векторизуем описания при помощи CountVectorizer и tfidf"
   ]
  },
  {
   "cell_type": "code",
   "execution_count": 66,
   "metadata": {
    "collapsed": false
   },
   "outputs": [],
   "source": [
    "from stop_words import get_stop_words\n",
    "stop_words = get_stop_words('russian') + get_stop_words('english')"
   ]
  },
  {
   "cell_type": "code",
   "execution_count": 67,
   "metadata": {
    "collapsed": true
   },
   "outputs": [],
   "source": [
    "from sklearn.feature_extraction.text import TfidfVectorizer\n",
    "\n",
    "tfidf = TfidfVectorizer(stop_words=stop_words, max_df=0.8, min_df=0.2)\n"
   ]
  },
  {
   "cell_type": "code",
   "execution_count": 68,
   "metadata": {
    "collapsed": false
   },
   "outputs": [],
   "source": [
    "transformed_data = tfidf.fit_transform(data[\"Text\"])"
   ]
  },
  {
   "cell_type": "code",
   "execution_count": 69,
   "metadata": {
    "collapsed": false
   },
   "outputs": [],
   "source": [
    "tfidf.vocabulary"
   ]
  },
  {
   "cell_type": "code",
   "execution_count": 70,
   "metadata": {
    "collapsed": false
   },
   "outputs": [
    {
     "data": {
      "text/plain": [
       "AgglomerativeClustering(affinity='euclidean', compute_full_tree='auto',\n",
       "            connectivity=None, linkage='ward',\n",
       "            memory=Memory(cachedir=None), n_clusters=4,\n",
       "            pooling_func=<function mean at 0x1042ffea0>)"
      ]
     },
     "execution_count": 70,
     "metadata": {},
     "output_type": "execute_result"
    }
   ],
   "source": [
    "from sklearn.cluster import AgglomerativeClustering\n",
    "clustering = AgglomerativeClustering(n_clusters = 4)\n",
    "clustering.fit(transformed_data.toarray())"
   ]
  },
  {
   "cell_type": "code",
   "execution_count": 71,
   "metadata": {
    "collapsed": false
   },
   "outputs": [
    {
     "data": {
      "text/plain": [
       "array([2, 2, 0, 2, 2, 2, 2, 2, 2, 2, 0, 0, 0, 0, 0, 0, 0, 1, 2, 3, 2, 1, 2,\n",
       "       2, 3, 0, 2, 0, 0, 1, 1, 2, 1, 1, 3, 0, 2, 0, 3, 1, 1, 0, 2, 2, 2, 3,\n",
       "       2, 2, 0, 3, 2, 2, 3, 0, 2, 0, 3, 1, 1, 3, 0, 0, 2, 0, 2])"
      ]
     },
     "execution_count": 71,
     "metadata": {},
     "output_type": "execute_result"
    }
   ],
   "source": [
    "clustering.fit_predict(transformed_data.toarray())"
   ]
  },
  {
   "cell_type": "markdown",
   "metadata": {},
   "source": [
    "### scipy"
   ]
  },
  {
   "cell_type": "code",
   "execution_count": 72,
   "metadata": {
    "collapsed": true
   },
   "outputs": [],
   "source": [
    "%matplotlib inline\n",
    "from scipy.cluster.hierarchy import dendrogram, linkage\n",
    "from scipy.cluster.hierarchy import fcluster\n",
    "from matplotlib import pyplot as plt\n",
    "from scipy.cluster.hierarchy import cophenet\n",
    "from scipy.spatial.distance import pdist"
   ]
  },
  {
   "cell_type": "code",
   "execution_count": 101,
   "metadata": {
    "collapsed": false
   },
   "outputs": [],
   "source": [
    "def hierarchycal_clustering(X, maxclust):\n",
    "    try:\n",
    "        Z = linkage(X, 'ward')\n",
    "    except ValueError:\n",
    "        Z = linkage(X.toarray(), 'ward')\n",
    "    print(Z)\n",
    "    c, coph_dists = cophenet(Z, pdist(transformed_data.toarray()))\n",
    "    print(\"cophenet: \", c)\n",
    "\n",
    "    plt.figure(figsize=(25, 10))\n",
    "    plt.title('Hierarchical Clustering Dendrogram')\n",
    "    plt.xlabel('sample index')\n",
    "    plt.ylabel('distance')\n",
    "    dendrogram(\n",
    "        Z,\n",
    "    #     p=9,\n",
    "    #     truncate_mode='level',\n",
    "    #     leaf_rotation=90.,  # rotates the x axis labels\n",
    "    #     leaf_font_size=8.,  # font size for the x axis labels\n",
    "    )\n",
    "    plt.show()\n",
    "    if maxclust != 0:\n",
    "        result = fcluster(Z, maxclust, criterion=\"maxclust\")\n",
    "    else: \n",
    "        result = fcluster(Z, 50)\n",
    "    return result"
   ]
  },
  {
   "cell_type": "code",
   "execution_count": 114,
   "metadata": {
    "collapsed": false
   },
   "outputs": [
    {
     "name": "stdout",
     "output_type": "stream",
     "text": [
      "[[   6.            7.            0.            2.        ]\n",
      " [   9.           23.            0.            2.        ]\n",
      " [  11.           37.            0.            2.        ]\n",
      " [  29.           30.            0.            2.        ]\n",
      " [  32.           33.            0.            2.        ]\n",
      " [  46.           47.            0.            2.        ]\n",
      " [  57.           58.            0.            2.        ]\n",
      " [  41.           67.            0.41443971    3.        ]\n",
      " [  50.           70.            0.56935416    3.        ]\n",
      " [   0.           26.            0.69887389    2.        ]\n",
      " [   3.            4.            0.73978624    2.        ]\n",
      " [  10.           35.            0.81430599    2.        ]\n",
      " [  56.           59.            0.83182288    2.        ]\n",
      " [  24.           45.            0.88913613    2.        ]\n",
      " [  49.           77.            0.91616852    3.        ]\n",
      " [   1.           65.            0.92823097    3.        ]\n",
      " [  27.           28.            0.93189084    2.        ]\n",
      " [  14.           15.            0.97505114    2.        ]\n",
      " [   2.           25.            0.9768015     2.        ]\n",
      " [  43.           64.            0.99116902    2.        ]\n",
      " [  17.           21.            0.99478794    2.        ]\n",
      " [  51.           62.            1.00312186    2.        ]\n",
      " [  13.           55.            1.00365252    2.        ]\n",
      " [  53.           63.            1.0216472     2.        ]\n",
      " [  38.           79.            1.02577406    4.        ]\n",
      " [  39.           40.            1.0275566     2.        ]\n",
      " [  12.           60.            1.07201212    2.        ]\n",
      " [  42.           44.            1.07288265    2.        ]\n",
      " [  20.           36.            1.08197183    2.        ]\n",
      " [   8.           80.            1.09795603    4.        ]\n",
      " [  48.           87.            1.10663416    3.        ]\n",
      " [  16.           83.            1.11957425    3.        ]\n",
      " [  85.           90.            1.14476635    4.        ]\n",
      " [  18.           31.            1.15900375    2.        ]\n",
      " [  54.           93.            1.16126843    3.        ]\n",
      " [  61.           82.            1.16249359    3.        ]\n",
      " [  22.           98.            1.21406364    3.        ]\n",
      " [  86.           99.            1.21581387    5.        ]\n",
      " [  19.           52.            1.21853917    2.        ]\n",
      " [  75.           84.            1.23953261    4.        ]\n",
      " [  95.           96.            1.2581513     6.        ]\n",
      " [   5.          101.            1.28591103    4.        ]\n",
      " [  88.          100.            1.31825119    5.        ]\n",
      " [  69.           97.            1.36672355    6.        ]\n",
      " [  92.          106.            1.37131356    6.        ]\n",
      " [  34.          103.            1.38383005    3.        ]\n",
      " [  81.          105.            1.39162238    8.        ]\n",
      " [  76.           91.            1.39591722    4.        ]\n",
      " [ 102.          109.            1.42483974   11.        ]\n",
      " [  73.          104.            1.44695887    7.        ]\n",
      " [  89.          110.            1.50271147    7.        ]\n",
      " [ 107.          111.            1.51409699   13.        ]\n",
      " [ 112.          116.            1.57984009   17.        ]\n",
      " [  74.          113.            1.60263565   13.        ]\n",
      " [  78.          115.            1.6465925     9.        ]\n",
      " [  68.          108.            1.67213151    8.        ]\n",
      " [  66.          118.            1.7003358    15.        ]\n",
      " [  71.          120.            1.75005429   10.        ]\n",
      " [  94.          121.            1.81153156   19.        ]\n",
      " [ 114.          123.            2.02277566   26.        ]\n",
      " [  72.          117.            2.05470728   20.        ]\n",
      " [ 119.          125.            2.12462566   29.        ]\n",
      " [ 124.          126.            2.27900475   55.        ]\n",
      " [ 122.          127.            2.44665867   65.        ]]\n",
      "cophenet:  0.610981122601\n"
     ]
    },
    {
     "data": {
      "image/png": "[encoded data removed]",
      "text/plain": [
       "<matplotlib.figure.Figure at 0x1082d3e80>"
      ]
     },
     "metadata": {},
     "output_type": "display_data"
    }
   ],
   "source": [
    "data[\"tfidf_class\"] = hierarchycal_clustering(transformed_data, 7)"
   ]
  },
  {
   "cell_type": "code",
   "execution_count": 92,
   "metadata": {
    "collapsed": false
   },
   "outputs": [],
   "source": [
    "def print_clusters(type):\n",
    "    for i in range(1,8):\n",
    "        print(list(data[data[type] == i][\"Название\"]))"
   ]
  },
  {
   "cell_type": "code",
   "execution_count": 98,
   "metadata": {
    "collapsed": false
   },
   "outputs": [
    {
     "name": "stdout",
     "output_type": "stream",
     "text": [
      "['Дополнительные главы теории алгоритмов', 'Коды с исправлением ошибок', 'Машинное обучение 1', 'Машинное обучение 2', 'Машинное обучение на больших данных', 'Машинное обучение на больших данных', 'Научно-исследовательский семинар \"Распределённые системы\"', 'Научно-исследовательский семинар \"Теоретическая информатика\"', 'Теория вычислений', 'Теория вычислений']\n",
      "['Алгоритмы и структуры данных', 'Алгоритмы и структуры данных-2', 'Основы и методология программирования', 'Параллельное и распределенное программирование', 'Параллельные и распределённые вычисления', 'Программирование на графических процессорах', 'Языки разработки программного обеспечения']\n",
      "['Академическое письмо на английском языке', 'Английский язык', 'Английский язык', 'Английский язык для начинающих']\n",
      "['Автоматическая обработка текстов', 'Анализ и верификация алгоритмов для систем биржевой торговли', 'Архитектура компьютера и операционные системы', 'Artificial Intelligence in Video Games', 'История', 'Combinatorics, Graphs and Computational Logic', 'Компьютерные сети и базы данных', 'Майнинг текстов', 'Machine learning and data mining', 'Научно-исследовательский семинар \"Анализ и майнинг данных\"', 'Core Concepts in Data Analysis', 'Foundations of Machine Learning and Data Mining', 'Психология в ИТ', 'Теория баз данных', 'Философия науки']\n",
      "['Operations Research', 'Кооперативные игры', 'Методы оптимизации', 'Научно-исследовательский семинар \"Принятие решений - прикладные задачи\"', 'Fundamentals of the Game Theory', 'Принятие решений в условиях риска и неопределённости', 'Сетевые модели принятия решений', 'Choice and Decision Theory', 'Теория индивидуального и коллективного выбора']\n",
      "['Вводный научно-исследовательский семинар', 'Научно-исследовательский семинар \"Машинное обучение и приложения\"', 'Научный семинар']\n",
      "['Алгебра', 'Введение в предсказательное моделирование', 'Вероятностные модели и статистика случайных процессов', 'Временные ряды', 'Дискретная математика', 'Дискретная математика 2', 'Дифференциальные уравнения', 'Линейная алгебра и геометрия', 'Математический анализ 1', 'Математический анализ 3', 'Многомерный статистический анализ', 'Прикладной статистический анализ данных', 'Systems Analysis', 'Теория вероятностей и математическая статистика', 'Теория случайных процессов', 'Теория чисел и её приложения', 'Численные методы в анализе данных']\n"
     ]
    }
   ],
   "source": [
    "print_clusters(\"tfidf_class\")"
   ]
  },
  {
   "cell_type": "code",
   "execution_count": 106,
   "metadata": {
    "collapsed": true
   },
   "outputs": [],
   "source": [
    "kek = pd.DataFrame()"
   ]
  },
  {
   "cell_type": "code",
   "execution_count": 123,
   "metadata": {
    "collapsed": false
   },
   "outputs": [],
   "source": [
    "def get_clusters(type):\n",
    "    clusters = []\n",
    "    for i in range(1,8):\n",
    "        clusters.append(list(data[data[type] == i][\"Название\"]))    \n",
    "    return clusters"
   ]
  },
  {
   "cell_type": "code",
   "execution_count": 130,
   "metadata": {
    "collapsed": false
   },
   "outputs": [
    {
     "name": "stdout",
     "output_type": "stream",
     "text": [
      "Cluster 1:  Дополнительные главы теории алгоритмов, Коды с исправлением ошибок, Машинное обучение 1, Машинное обучение 2, Машинное обучение на больших данных, Машинное обучение на больших данных, Научно-исследовательский семинар \"Распределённые системы\", Научно-исследовательский семинар \"Теоретическая информатика\", Теория вычислений, Теория вычислений\n",
      "\n",
      "Cluster 2:  Алгоритмы и структуры данных, Алгоритмы и структуры данных-2, Основы и методология программирования, Параллельное и распределенное программирование, Параллельные и распределённые вычисления, Программирование на графических процессорах, Языки разработки программного обеспечения\n",
      "\n",
      "Cluster 3:  Академическое письмо на английском языке, Английский язык, Английский язык, Английский язык для начинающих\n",
      "\n",
      "Cluster 4:  Автоматическая обработка текстов, Анализ и верификация алгоритмов для систем биржевой торговли, Архитектура компьютера и операционные системы, Artificial Intelligence in Video Games, История, Combinatorics, Graphs and Computational Logic, Компьютерные сети и базы данных, Майнинг текстов, Machine learning and data mining, Научно-исследовательский семинар \"Анализ и майнинг данных\", Core Concepts in Data Analysis, Foundations of Machine Learning and Data Mining, Психология в ИТ, Теория баз данных, Философия науки\n",
      "\n",
      "Cluster 5:  Operations Research, Кооперативные игры, Методы оптимизации, Научно-исследовательский семинар \"Принятие решений - прикладные задачи\", Fundamentals of the Game Theory, Принятие решений в условиях риска и неопределённости, Сетевые модели принятия решений, Choice and Decision Theory, Теория индивидуального и коллективного выбора\n",
      "\n",
      "Cluster 6:  Вводный научно-исследовательский семинар, Научно-исследовательский семинар \"Машинное обучение и приложения\", Научный семинар\n",
      "\n",
      "Cluster 7:  Алгебра, Введение в предсказательное моделирование, Вероятностные модели и статистика случайных процессов, Временные ряды, Дискретная математика, Дискретная математика 2, Дифференциальные уравнения, Линейная алгебра и геометрия, Математический анализ 1, Математический анализ 3, Многомерный статистический анализ, Прикладной статистический анализ данных, Systems Analysis, Теория вероятностей и математическая статистика, Теория случайных процессов, Теория чисел и её приложения, Численные методы в анализе данных\n",
      "\n"
     ]
    }
   ],
   "source": [
    "clusters = get_clusters(\"tfidf_class\")\n",
    "i = 0\n",
    "for cluster in clusters:\n",
    "    i += 1\n",
    "    print(\"Cluster \" + str(i) + \": \", \", \".join(cluster))\n",
    "    print()"
   ]
  },
  {
   "cell_type": "code",
   "execution_count": 125,
   "metadata": {
    "collapsed": false
   },
   "outputs": [
    {
     "name": "stdout",
     "output_type": "stream",
     "text": [
      "10\n",
      "7\n",
      "4\n",
      "15\n",
      "9\n",
      "3\n",
      "17\n"
     ]
    }
   ],
   "source": [
    "print\"Cluster \" + str(i) for i in range(8)\n",
    "for i in range(17):\n",
    "    for j in range(8):\n",
    "        "
   ]
  },
  {
   "cell_type": "markdown",
   "metadata": {
    "collapsed": true
   },
   "source": [
    "### LDA"
   ]
  },
  {
   "cell_type": "code",
   "execution_count": 131,
   "metadata": {
    "collapsed": false
   },
   "outputs": [],
   "source": [
    "from sklearn.decomposition import LatentDirichletAllocation\n",
    "lda = LatentDirichletAllocation(n_topics=10, max_iter=5,\n",
    "                                learning_method='online',)"
   ]
  },
  {
   "cell_type": "code",
   "execution_count": 132,
   "metadata": {
    "collapsed": false
   },
   "outputs": [],
   "source": [
    "lda_data = lda.fit_transform(transformed_data)"
   ]
  },
  {
   "cell_type": "code",
   "execution_count": 136,
   "metadata": {
    "collapsed": false
   },
   "outputs": [
    {
     "name": "stdout",
     "output_type": "stream",
     "text": [
      "[[  6.00000000e+00   7.00000000e+00   0.00000000e+00   2.00000000e+00]\n",
      " [  9.00000000e+00   2.30000000e+01   0.00000000e+00   2.00000000e+00]\n",
      " [  1.10000000e+01   3.70000000e+01   0.00000000e+00   2.00000000e+00]\n",
      " [  2.90000000e+01   3.00000000e+01   0.00000000e+00   2.00000000e+00]\n",
      " [  3.20000000e+01   3.30000000e+01   0.00000000e+00   2.00000000e+00]\n",
      " [  4.60000000e+01   4.70000000e+01   0.00000000e+00   2.00000000e+00]\n",
      " [  5.70000000e+01   5.80000000e+01   0.00000000e+00   2.00000000e+00]\n",
      " [  1.00000000e+00   1.50000000e+01   4.42436471e-06   2.00000000e+00]\n",
      " [  5.90000000e+01   6.30000000e+01   2.36818667e-05   2.00000000e+00]\n",
      " [  6.70000000e+01   7.20000000e+01   5.00063262e-05   4.00000000e+00]\n",
      " [  2.00000000e+01   4.20000000e+01   6.69016283e-05   2.00000000e+00]\n",
      " [  1.00000000e+01   3.60000000e+01   7.63549342e-05   2.00000000e+00]\n",
      " [  2.00000000e+00   6.80000000e+01   9.55434893e-05   3.00000000e+00]\n",
      " [  5.50000000e+01   6.00000000e+01   9.82455621e-05   2.00000000e+00]\n",
      " [  3.00000000e+00   3.50000000e+01   1.09347201e-04   2.00000000e+00]\n",
      " [  2.10000000e+01   6.90000000e+01   1.14377291e-04   3.00000000e+00]\n",
      " [  1.60000000e+01   5.00000000e+01   1.28937663e-04   2.00000000e+00]\n",
      " [  4.00000000e+00   1.30000000e+01   1.38498574e-04   2.00000000e+00]\n",
      " [  3.10000000e+01   4.90000000e+01   1.48873152e-04   2.00000000e+00]\n",
      " [  2.20000000e+01   2.80000000e+01   1.98636481e-04   2.00000000e+00]\n",
      " [  2.50000000e+01   6.60000000e+01   2.03368165e-04   3.00000000e+00]\n",
      " [  0.00000000e+00   1.80000000e+01   2.66652350e-04   2.00000000e+00]\n",
      " [  4.10000000e+01   7.00000000e+01   2.81316749e-04   3.00000000e+00]\n",
      " [  3.80000000e+01   7.30000000e+01   3.24234132e-04   3.00000000e+00]\n",
      " [  1.40000000e+01   8.50000000e+01   3.41519120e-04   4.00000000e+00]\n",
      " [  4.80000000e+01   7.10000000e+01   4.50491713e-04   3.00000000e+00]\n",
      " [  2.70000000e+01   8.30000000e+01   5.30297569e-04   3.00000000e+00]\n",
      " [  7.70000000e+01   8.40000000e+01   6.02453672e-04   5.00000000e+00]\n",
      " [  8.10000000e+01   8.20000000e+01   6.09866352e-04   4.00000000e+00]\n",
      " [  2.60000000e+01   6.10000000e+01   6.26976335e-04   2.00000000e+00]\n",
      " [  5.10000000e+01   6.50000000e+01   9.19711019e-04   3.00000000e+00]\n",
      " [  8.00000000e+00   8.80000000e+01   1.06984830e-03   4.00000000e+00]\n",
      " [  7.40000000e+01   8.70000000e+01   1.22550860e-03   7.00000000e+00]\n",
      " [  8.60000000e+01   9.40000000e+01   1.22674578e-03   4.00000000e+00]\n",
      " [  7.60000000e+01   9.20000000e+01   1.28142701e-03   7.00000000e+00]\n",
      " [  5.00000000e+00   9.00000000e+01   1.46340506e-03   4.00000000e+00]\n",
      " [  4.50000000e+01   8.00000000e+01   1.47911542e-03   4.00000000e+00]\n",
      " [  6.20000000e+01   9.30000000e+01   1.73457784e-03   5.00000000e+00]\n",
      " [  1.70000000e+01   1.90000000e+01   1.80420912e-03   2.00000000e+00]\n",
      " [  6.40000000e+01   7.80000000e+01   1.99116962e-03   3.00000000e+00]\n",
      " [  5.40000000e+01   7.90000000e+01   2.01608537e-03   3.00000000e+00]\n",
      " [  5.30000000e+01   5.60000000e+01   2.30902771e-03   2.00000000e+00]\n",
      " [  4.40000000e+01   9.80000000e+01   2.42077525e-03   5.00000000e+00]\n",
      " [  4.30000000e+01   9.70000000e+01   2.82378281e-03   8.00000000e+00]\n",
      " [  9.10000000e+01   9.90000000e+01   3.38017292e-03   1.00000000e+01]\n",
      " [  8.90000000e+01   1.05000000e+02   3.55334140e-03   7.00000000e+00]\n",
      " [  9.60000000e+01   1.04000000e+02   4.06729888e-03   7.00000000e+00]\n",
      " [  1.00000000e+02   1.07000000e+02   4.36540124e-03   9.00000000e+00]\n",
      " [  3.40000000e+01   4.00000000e+01   4.44432828e-03   2.00000000e+00]\n",
      " [  1.02000000e+02   1.08000000e+02   4.86286913e-03   1.30000000e+01]\n",
      " [  3.90000000e+01   7.50000000e+01   6.07242606e-03   3.00000000e+00]\n",
      " [  1.20000000e+01   1.03000000e+02   6.23365943e-03   3.00000000e+00]\n",
      " [  1.01000000e+02   1.06000000e+02   7.85017677e-03   6.00000000e+00]\n",
      " [  1.09000000e+02   1.10000000e+02   1.02166788e-02   1.70000000e+01]\n",
      " [  9.50000000e+01   1.14000000e+02   1.10573124e-02   1.60000000e+01]\n",
      " [  1.12000000e+02   1.15000000e+02   1.39483108e-02   1.20000000e+01]\n",
      " [  2.40000000e+01   1.13000000e+02   1.58421030e-02   3.00000000e+00]\n",
      " [  1.11000000e+02   1.18000000e+02   2.15318937e-02   2.40000000e+01]\n",
      " [  1.16000000e+02   1.17000000e+02   2.30295271e-02   9.00000000e+00]\n",
      " [  1.20000000e+02   1.22000000e+02   4.97160686e-02   3.60000000e+01]\n",
      " [  1.21000000e+02   1.23000000e+02   5.44374390e-02   1.20000000e+01]\n",
      " [  1.19000000e+02   1.24000000e+02   7.68730860e-02   5.20000000e+01]\n",
      " [  5.20000000e+01   1.25000000e+02   1.64336375e-01   1.30000000e+01]\n",
      " [  1.26000000e+02   1.27000000e+02   2.74787559e-01   6.50000000e+01]]\n",
      "cophenet:  0.371736690111\n"
     ]
    },
    {
     "data": {
      "image/png": "[encoded data removed]",
      "text/plain": [
       "<matplotlib.figure.Figure at 0x10842d4e0>"
      ]
     },
     "metadata": {},
     "output_type": "display_data"
    }
   ],
   "source": [
    "data[\"lda\"] = hierarchycal_clustering(lda_data, 7)"
   ]
  },
  {
   "cell_type": "code",
   "execution_count": 134,
   "metadata": {
    "collapsed": false
   },
   "outputs": [
    {
     "ename": "ValueError",
     "evalue": "Length of values does not match length of index",
     "output_type": "error",
     "traceback": [
      "\u001b[0;31m---------------------------------------------------------------------------\u001b[0m",
      "\u001b[0;31mValueError\u001b[0m                                Traceback (most recent call last)",
      "\u001b[0;32m<ipython-input-134-02e0fe3dd2fa>\u001b[0m in \u001b[0;36m<module>\u001b[0;34m()\u001b[0m\n\u001b[0;32m----> 1\u001b[0;31m \u001b[0mprint_clusters\u001b[0m\u001b[0;34m(\u001b[0m\u001b[0;34m\"lda\"\u001b[0m\u001b[0;34m)\u001b[0m\u001b[0;34m\u001b[0m\u001b[0m\n\u001b[0m",
      "\u001b[0;32m<ipython-input-110-4c90104808ac>\u001b[0m in \u001b[0;36mprint_clusters\u001b[0;34m(type)\u001b[0m\n\u001b[1;32m      1\u001b[0m \u001b[0;32mdef\u001b[0m \u001b[0mprint_clusters\u001b[0m\u001b[0;34m(\u001b[0m\u001b[0mtype\u001b[0m\u001b[0;34m)\u001b[0m\u001b[0;34m:\u001b[0m\u001b[0;34m\u001b[0m\u001b[0m\n\u001b[1;32m      2\u001b[0m     \u001b[0;32mfor\u001b[0m \u001b[0mi\u001b[0m \u001b[0;32min\u001b[0m \u001b[0mrange\u001b[0m\u001b[0;34m(\u001b[0m\u001b[0;36m1\u001b[0m\u001b[0;34m,\u001b[0m\u001b[0;36m8\u001b[0m\u001b[0;34m)\u001b[0m\u001b[0;34m:\u001b[0m\u001b[0;34m\u001b[0m\u001b[0m\n\u001b[0;32m----> 3\u001b[0;31m         \u001b[0mkek\u001b[0m\u001b[0;34m[\u001b[0m\u001b[0;34m\"Cluster \"\u001b[0m \u001b[0;34m+\u001b[0m \u001b[0mstr\u001b[0m\u001b[0;34m(\u001b[0m\u001b[0mi\u001b[0m\u001b[0;34m)\u001b[0m\u001b[0;34m]\u001b[0m \u001b[0;34m=\u001b[0m \u001b[0mlist\u001b[0m\u001b[0;34m(\u001b[0m\u001b[0mdata\u001b[0m\u001b[0;34m[\u001b[0m\u001b[0mdata\u001b[0m\u001b[0;34m[\u001b[0m\u001b[0mtype\u001b[0m\u001b[0;34m]\u001b[0m \u001b[0;34m==\u001b[0m \u001b[0mi\u001b[0m\u001b[0;34m]\u001b[0m\u001b[0;34m[\u001b[0m\u001b[0;34m\"Название\"\u001b[0m\u001b[0;34m]\u001b[0m\u001b[0;34m)\u001b[0m\u001b[0;34m\u001b[0m\u001b[0m\n\u001b[0m",
      "\u001b[0;32m/Library/Frameworks/Python.framework/Versions/3.5/lib/python3.5/site-packages/pandas/core/frame.py\u001b[0m in \u001b[0;36m__setitem__\u001b[0;34m(self, key, value)\u001b[0m\n\u001b[1;32m   2329\u001b[0m         \u001b[0;32melse\u001b[0m\u001b[0;34m:\u001b[0m\u001b[0;34m\u001b[0m\u001b[0m\n\u001b[1;32m   2330\u001b[0m             \u001b[0;31m# set column\u001b[0m\u001b[0;34m\u001b[0m\u001b[0;34m\u001b[0m\u001b[0m\n\u001b[0;32m-> 2331\u001b[0;31m             \u001b[0mself\u001b[0m\u001b[0;34m.\u001b[0m\u001b[0m_set_item\u001b[0m\u001b[0;34m(\u001b[0m\u001b[0mkey\u001b[0m\u001b[0;34m,\u001b[0m \u001b[0mvalue\u001b[0m\u001b[0;34m)\u001b[0m\u001b[0;34m\u001b[0m\u001b[0m\n\u001b[0m\u001b[1;32m   2332\u001b[0m \u001b[0;34m\u001b[0m\u001b[0m\n\u001b[1;32m   2333\u001b[0m     \u001b[0;32mdef\u001b[0m \u001b[0m_setitem_slice\u001b[0m\u001b[0;34m(\u001b[0m\u001b[0mself\u001b[0m\u001b[0;34m,\u001b[0m \u001b[0mkey\u001b[0m\u001b[0;34m,\u001b[0m \u001b[0mvalue\u001b[0m\u001b[0;34m)\u001b[0m\u001b[0;34m:\u001b[0m\u001b[0;34m\u001b[0m\u001b[0m\n",
      "\u001b[0;32m/Library/Frameworks/Python.framework/Versions/3.5/lib/python3.5/site-packages/pandas/core/frame.py\u001b[0m in \u001b[0;36m_set_item\u001b[0;34m(self, key, value)\u001b[0m\n\u001b[1;32m   2395\u001b[0m \u001b[0;34m\u001b[0m\u001b[0m\n\u001b[1;32m   2396\u001b[0m         \u001b[0mself\u001b[0m\u001b[0;34m.\u001b[0m\u001b[0m_ensure_valid_index\u001b[0m\u001b[0;34m(\u001b[0m\u001b[0mvalue\u001b[0m\u001b[0;34m)\u001b[0m\u001b[0;34m\u001b[0m\u001b[0m\n\u001b[0;32m-> 2397\u001b[0;31m         \u001b[0mvalue\u001b[0m \u001b[0;34m=\u001b[0m \u001b[0mself\u001b[0m\u001b[0;34m.\u001b[0m\u001b[0m_sanitize_column\u001b[0m\u001b[0;34m(\u001b[0m\u001b[0mkey\u001b[0m\u001b[0;34m,\u001b[0m \u001b[0mvalue\u001b[0m\u001b[0;34m)\u001b[0m\u001b[0;34m\u001b[0m\u001b[0m\n\u001b[0m\u001b[1;32m   2398\u001b[0m         \u001b[0mNDFrame\u001b[0m\u001b[0;34m.\u001b[0m\u001b[0m_set_item\u001b[0m\u001b[0;34m(\u001b[0m\u001b[0mself\u001b[0m\u001b[0;34m,\u001b[0m \u001b[0mkey\u001b[0m\u001b[0;34m,\u001b[0m \u001b[0mvalue\u001b[0m\u001b[0;34m)\u001b[0m\u001b[0;34m\u001b[0m\u001b[0m\n\u001b[1;32m   2399\u001b[0m \u001b[0;34m\u001b[0m\u001b[0m\n",
      "\u001b[0;32m/Library/Frameworks/Python.framework/Versions/3.5/lib/python3.5/site-packages/pandas/core/frame.py\u001b[0m in \u001b[0;36m_sanitize_column\u001b[0;34m(self, key, value, broadcast)\u001b[0m\n\u001b[1;32m   2566\u001b[0m \u001b[0;34m\u001b[0m\u001b[0m\n\u001b[1;32m   2567\u001b[0m             \u001b[0;31m# turn me into an ndarray\u001b[0m\u001b[0;34m\u001b[0m\u001b[0;34m\u001b[0m\u001b[0m\n\u001b[0;32m-> 2568\u001b[0;31m             \u001b[0mvalue\u001b[0m \u001b[0;34m=\u001b[0m \u001b[0m_sanitize_index\u001b[0m\u001b[0;34m(\u001b[0m\u001b[0mvalue\u001b[0m\u001b[0;34m,\u001b[0m \u001b[0mself\u001b[0m\u001b[0;34m.\u001b[0m\u001b[0mindex\u001b[0m\u001b[0;34m,\u001b[0m \u001b[0mcopy\u001b[0m\u001b[0;34m=\u001b[0m\u001b[0;32mFalse\u001b[0m\u001b[0;34m)\u001b[0m\u001b[0;34m\u001b[0m\u001b[0m\n\u001b[0m\u001b[1;32m   2569\u001b[0m             \u001b[0;32mif\u001b[0m \u001b[0;32mnot\u001b[0m \u001b[0misinstance\u001b[0m\u001b[0;34m(\u001b[0m\u001b[0mvalue\u001b[0m\u001b[0;34m,\u001b[0m \u001b[0;34m(\u001b[0m\u001b[0mnp\u001b[0m\u001b[0;34m.\u001b[0m\u001b[0mndarray\u001b[0m\u001b[0;34m,\u001b[0m \u001b[0mIndex\u001b[0m\u001b[0;34m)\u001b[0m\u001b[0;34m)\u001b[0m\u001b[0;34m:\u001b[0m\u001b[0;34m\u001b[0m\u001b[0m\n\u001b[1;32m   2570\u001b[0m                 \u001b[0;32mif\u001b[0m \u001b[0misinstance\u001b[0m\u001b[0;34m(\u001b[0m\u001b[0mvalue\u001b[0m\u001b[0;34m,\u001b[0m \u001b[0mlist\u001b[0m\u001b[0;34m)\u001b[0m \u001b[0;32mand\u001b[0m \u001b[0mlen\u001b[0m\u001b[0;34m(\u001b[0m\u001b[0mvalue\u001b[0m\u001b[0;34m)\u001b[0m \u001b[0;34m>\u001b[0m \u001b[0;36m0\u001b[0m\u001b[0;34m:\u001b[0m\u001b[0;34m\u001b[0m\u001b[0m\n",
      "\u001b[0;32m/Library/Frameworks/Python.framework/Versions/3.5/lib/python3.5/site-packages/pandas/core/series.py\u001b[0m in \u001b[0;36m_sanitize_index\u001b[0;34m(data, index, copy)\u001b[0m\n\u001b[1;32m   2877\u001b[0m \u001b[0;34m\u001b[0m\u001b[0m\n\u001b[1;32m   2878\u001b[0m     \u001b[0;32mif\u001b[0m \u001b[0mlen\u001b[0m\u001b[0;34m(\u001b[0m\u001b[0mdata\u001b[0m\u001b[0;34m)\u001b[0m \u001b[0;34m!=\u001b[0m \u001b[0mlen\u001b[0m\u001b[0;34m(\u001b[0m\u001b[0mindex\u001b[0m\u001b[0;34m)\u001b[0m\u001b[0;34m:\u001b[0m\u001b[0;34m\u001b[0m\u001b[0m\n\u001b[0;32m-> 2879\u001b[0;31m         \u001b[0;32mraise\u001b[0m \u001b[0mValueError\u001b[0m\u001b[0;34m(\u001b[0m\u001b[0;34m'Length of values does not match length of '\u001b[0m \u001b[0;34m'index'\u001b[0m\u001b[0;34m)\u001b[0m\u001b[0;34m\u001b[0m\u001b[0m\n\u001b[0m\u001b[1;32m   2880\u001b[0m \u001b[0;34m\u001b[0m\u001b[0m\n\u001b[1;32m   2881\u001b[0m     \u001b[0;32mif\u001b[0m \u001b[0misinstance\u001b[0m\u001b[0;34m(\u001b[0m\u001b[0mdata\u001b[0m\u001b[0;34m,\u001b[0m \u001b[0mPeriodIndex\u001b[0m\u001b[0;34m)\u001b[0m\u001b[0;34m:\u001b[0m\u001b[0;34m\u001b[0m\u001b[0m\n",
      "\u001b[0;31mValueError\u001b[0m: Length of values does not match length of index"
     ]
    }
   ],
   "source": [
    "print_clusters(\"lda\")"
   ]
  },
  {
   "cell_type": "code",
   "execution_count": 137,
   "metadata": {
    "collapsed": false
   },
   "outputs": [
    {
     "name": "stdout",
     "output_type": "stream",
     "text": [
      "Cluster 1:  Академическое письмо на английском языке, Алгоритмы и структуры данных-2, Английский язык, Английский язык, Вводный научно-исследовательский семинар, Временные ряды, Дискретная математика 2, Дифференциальные уравнения, Научно-исследовательский семинар \"Машинное обучение и приложения\", Научный семинар, Основы и методология программирования, Параллельное и распределенное программирование, Параллельные и распределённые вычисления, Программирование на графических процессорах, Психология в ИТ, Философия науки\n",
      "\n",
      "Cluster 2:  Автоматическая обработка текстов, Анализ и верификация алгоритмов для систем биржевой торговли, Artificial Intelligence in Video Games, История, Майнинг текстов, Научно-исследовательский семинар \"Распределённые системы\", Core Concepts in Data Analysis, Foundations of Machine Learning and Data Mining, Прикладной статистический анализ данных, Теория вычислений, Теория вычислений, Теория чисел и её приложения\n",
      "\n",
      "Cluster 3:  Алгебра, Алгоритмы и структуры данных, Английский язык для начинающих, Архитектура компьютера и операционные системы, Введение в предсказательное моделирование, Дискретная математика, Combinatorics, Graphs and Computational Logic, Компьютерные сети и базы данных, Линейная алгебра и геометрия, Математический анализ 1, Математический анализ 3, Машинное обучение 1, Машинное обучение 2, Machine learning and data mining, Многомерный статистический анализ, Научно-исследовательский семинар \"Анализ и майнинг данных\", Научно-исследовательский семинар \"Принятие решений - прикладные задачи\", Принятие решений в условиях риска и неопределённости, Теория баз данных, Теория вероятностей и математическая статистика, Теория индивидуального и коллективного выбора, Теория случайных процессов, Численные методы в анализе данных, Языки разработки программного обеспечения\n",
      "\n",
      "Cluster 4:  Кооперативные игры, Методы оптимизации, Научно-исследовательский семинар \"Теоретическая информатика\"\n",
      "\n",
      "Cluster 5:  Вероятностные модели и статистика случайных процессов, Дополнительные главы теории алгоритмов, Operations Research\n",
      "\n",
      "Cluster 6:  Коды с исправлением ошибок, Машинное обучение на больших данных, Машинное обучение на больших данных, Fundamentals of the Game Theory, Systems Analysis, Choice and Decision Theory\n",
      "\n",
      "Cluster 7:  Сетевые модели принятия решений\n",
      "\n"
     ]
    }
   ],
   "source": [
    "clusters = get_clusters(\"lda\")\n",
    "i = 0\n",
    "for cluster in clusters:\n",
    "    i += 1\n",
    "    print(\"Cluster \" + str(i) + \": \", \", \".join(cluster))\n",
    "    print()"
   ]
  },
  {
   "cell_type": "code",
   "execution_count": 80,
   "metadata": {
    "collapsed": false
   },
   "outputs": [
    {
     "data": {
      "text/html": [
       "<div>\n",
       "<table border=\"1\" class=\"dataframe\">\n",
       "  <thead>\n",
       "    <tr style=\"text-align: right;\">\n",
       "      <th></th>\n",
       "      <th>Образовательная программа</th>\n",
       "      <th>Направление</th>\n",
       "      <th>Text</th>\n",
       "      <th>Авторы</th>\n",
       "      <th>Кто читает</th>\n",
       "      <th>id</th>\n",
       "      <th>Когда читается</th>\n",
       "      <th>Преподаватели</th>\n",
       "      <th>Язык</th>\n",
       "      <th>Где читается</th>\n",
       "      <th>Уровень</th>\n",
       "      <th>Кредитов</th>\n",
       "      <th>Название</th>\n",
       "      <th>Статус</th>\n",
       "      <th>Прогр. уч. дисц.</th>\n",
       "      <th>tfidf_class</th>\n",
       "      <th>lda</th>\n",
       "    </tr>\n",
       "  </thead>\n",
       "  <tbody>\n",
       "    <tr>\n",
       "      <th>34</th>\n",
       "      <td>Прикладная математика и информатика</td>\n",
       "      <td>01.03.02. Прикладная математика и информатика</td>\n",
       "      <td>Национальный исследовательский университет «Вы...</td>\n",
       "      <td>NaN</td>\n",
       "      <td>Департамент больших данных и информационного п...</td>\n",
       "      <td>35</td>\n",
       "      <td>3-й курс, 4 модуль</td>\n",
       "      <td>['Бартунов Сергей Олегович', 'Папулин Сергей Ю...</td>\n",
       "      <td>русский</td>\n",
       "      <td>Факультет компьютерных наук</td>\n",
       "      <td>Бакалавриат</td>\n",
       "      <td>3.0</td>\n",
       "      <td>Машинное обучение на больших данных</td>\n",
       "      <td>Курс по выбору</td>\n",
       "      <td>/data/2016/10/30/1117093534/program-1509926217...</td>\n",
       "      <td>1</td>\n",
       "      <td>6</td>\n",
       "    </tr>\n",
       "    <tr>\n",
       "      <th>35</th>\n",
       "      <td>Прикладная математика и информатика</td>\n",
       "      <td>01.03.02. Прикладная математика и информатика</td>\n",
       "      <td>Национальный исследовательский университет «Вы...</td>\n",
       "      <td>NaN</td>\n",
       "      <td>Департамент больших данных и информационного п...</td>\n",
       "      <td>36</td>\n",
       "      <td>3-й курс, 4 модуль</td>\n",
       "      <td>['Папулин Сергей Юрьевич', 'Умнов Алексей Вита...</td>\n",
       "      <td>русский</td>\n",
       "      <td>Факультет компьютерных наук</td>\n",
       "      <td>Бакалавриат</td>\n",
       "      <td>3.0</td>\n",
       "      <td>Машинное обучение на больших данных</td>\n",
       "      <td>Курс по выбору</td>\n",
       "      <td>/data/2016/10/30/1117093530/program-1546015286...</td>\n",
       "      <td>1</td>\n",
       "      <td>6</td>\n",
       "    </tr>\n",
       "  </tbody>\n",
       "</table>\n",
       "</div>"
      ],
      "text/plain": [
       "              Образовательная программа  \\\n",
       "34  Прикладная математика и информатика   \n",
       "35  Прикладная математика и информатика   \n",
       "\n",
       "                                      Направление  \\\n",
       "34  01.03.02. Прикладная математика и информатика   \n",
       "35  01.03.02. Прикладная математика и информатика   \n",
       "\n",
       "                                                 Text Авторы  \\\n",
       "34  Национальный исследовательский университет «Вы...    NaN   \n",
       "35  Национальный исследовательский университет «Вы...    NaN   \n",
       "\n",
       "                                           Кто читает  id      Когда читается  \\\n",
       "34  Департамент больших данных и информационного п...  35  3-й курс, 4 модуль   \n",
       "35  Департамент больших данных и информационного п...  36  3-й курс, 4 модуль   \n",
       "\n",
       "                                        Преподаватели     Язык  \\\n",
       "34  ['Бартунов Сергей Олегович', 'Папулин Сергей Ю...  русский   \n",
       "35  ['Папулин Сергей Юрьевич', 'Умнов Алексей Вита...  русский   \n",
       "\n",
       "                   Где читается      Уровень  Кредитов  \\\n",
       "34  Факультет компьютерных наук  Бакалавриат       3.0   \n",
       "35  Факультет компьютерных наук  Бакалавриат       3.0   \n",
       "\n",
       "                               Название          Статус  \\\n",
       "34  Машинное обучение на больших данных  Курс по выбору   \n",
       "35  Машинное обучение на больших данных  Курс по выбору   \n",
       "\n",
       "                                     Прогр. уч. дисц.  tfidf_class  lda  \n",
       "34  /data/2016/10/30/1117093534/program-1509926217...            1    6  \n",
       "35  /data/2016/10/30/1117093530/program-1546015286...            1    6  "
      ]
     },
     "execution_count": 80,
     "metadata": {},
     "output_type": "execute_result"
    }
   ],
   "source": [
    "data[data[\"Название\"] == 'Машинное обучение на больших данных']"
   ]
  },
  {
   "cell_type": "code",
   "execution_count": 60,
   "metadata": {
    "collapsed": false
   },
   "outputs": [
    {
     "ename": "OSError",
     "evalue": "[Errno 22] Invalid argument",
     "output_type": "error",
     "traceback": [
      "\u001b[0;31m---------------------------------------------------------------------------\u001b[0m",
      "\u001b[0;31mOSError\u001b[0m                                   Traceback (most recent call last)",
      "\u001b[0;32m<ipython-input-60-3476c5242a7a>\u001b[0m in \u001b[0;36m<module>\u001b[0;34m()\u001b[0m\n\u001b[1;32m      3\u001b[0m \u001b[0;32mimport\u001b[0m \u001b[0mpandas\u001b[0m \u001b[0;32mas\u001b[0m \u001b[0mpd\u001b[0m\u001b[0;34m\u001b[0m\u001b[0m\n\u001b[1;32m      4\u001b[0m \u001b[0mtqdm\u001b[0m\u001b[0;34m.\u001b[0m\u001b[0mpandas\u001b[0m\u001b[0;34m(\u001b[0m\u001b[0mtqdm_notebook\u001b[0m\u001b[0;34m)\u001b[0m\u001b[0;34m\u001b[0m\u001b[0m\n\u001b[0;32m----> 5\u001b[0;31m \u001b[0mdf\u001b[0m \u001b[0;34m=\u001b[0m \u001b[0mpd\u001b[0m\u001b[0;34m.\u001b[0m\u001b[0mread_json\u001b[0m\u001b[0;34m(\u001b[0m\u001b[0;34m\"howpop_train.jsonlines\"\u001b[0m\u001b[0;34m,\u001b[0m \u001b[0mlines\u001b[0m\u001b[0;34m=\u001b[0m\u001b[0;32mTrue\u001b[0m\u001b[0;34m)\u001b[0m\u001b[0;34m\u001b[0m\u001b[0m\n\u001b[0m\u001b[1;32m      6\u001b[0m \u001b[0mdf\u001b[0m\u001b[0;34m[\u001b[0m\u001b[0;34m'text'\u001b[0m\u001b[0;34m]\u001b[0m \u001b[0;34m=\u001b[0m \u001b[0mdf\u001b[0m\u001b[0;34m[\u001b[0m\u001b[0;34m'content'\u001b[0m\u001b[0;34m]\u001b[0m\u001b[0;34m.\u001b[0m\u001b[0mprogress_apply\u001b[0m\u001b[0;34m(\u001b[0m\u001b[0mremove_tags\u001b[0m\u001b[0;34m)\u001b[0m\u001b[0;34m\u001b[0m\u001b[0m\n",
      "\u001b[0;32m/Library/Frameworks/Python.framework/Versions/3.5/lib/python3.5/site-packages/pandas/io/json/json.py\u001b[0m in \u001b[0;36mread_json\u001b[0;34m(path_or_buf, orient, typ, dtype, convert_axes, convert_dates, keep_default_dates, numpy, precise_float, date_unit, encoding, lines)\u001b[0m\n\u001b[1;32m    333\u001b[0m             fh, handles = _get_handle(filepath_or_buffer, 'r',\n\u001b[1;32m    334\u001b[0m                                       encoding=encoding)\n\u001b[0;32m--> 335\u001b[0;31m             \u001b[0mjson\u001b[0m \u001b[0;34m=\u001b[0m \u001b[0mfh\u001b[0m\u001b[0;34m.\u001b[0m\u001b[0mread\u001b[0m\u001b[0;34m(\u001b[0m\u001b[0;34m)\u001b[0m\u001b[0;34m\u001b[0m\u001b[0m\n\u001b[0m\u001b[1;32m    336\u001b[0m             \u001b[0mfh\u001b[0m\u001b[0;34m.\u001b[0m\u001b[0mclose\u001b[0m\u001b[0;34m(\u001b[0m\u001b[0;34m)\u001b[0m\u001b[0;34m\u001b[0m\u001b[0m\n\u001b[1;32m    337\u001b[0m         \u001b[0;32melse\u001b[0m\u001b[0;34m:\u001b[0m\u001b[0;34m\u001b[0m\u001b[0m\n",
      "\u001b[0;31mOSError\u001b[0m: [Errno 22] Invalid argument"
     ]
    }
   ],
   "source": [
    "from w3lib.html import remove_tags\n",
    "from tqdm import tqdm, tqdm_notebook\n",
    "import pandas as pd\n",
    "import os\n",
    "current\n",
    "tqdm.pandas(tqdm_notebook)\n",
    "df = pd.read_json(\"howpop_train.jsonlines\", lines=True)\n",
    "df['text'] = df['content'].progress_apply(remove_tags)"
   ]
  },
  {
   "cell_type": "code",
   "execution_count": 6,
   "metadata": {
    "collapsed": true
   },
   "outputs": [],
   "source": [
    "f = open(\"howpop_train.jsonlines\", \"r\")"
   ]
  },
  {
   "cell_type": "code",
   "execution_count": 49,
   "metadata": {
    "collapsed": true
   },
   "outputs": [],
   "source": [
    "import networkx as nx\n",
    "G = nx.Graph()"
   ]
  },
  {
   "cell_type": "code",
   "execution_count": 54,
   "metadata": {
    "collapsed": false
   },
   "outputs": [],
   "source": [
    "G.add_nodes_from([\"Привет\", \"кек\", \"лол\"], color = \"blue\")"
   ]
  },
  {
   "cell_type": "code",
   "execution_count": 57,
   "metadata": {
    "collapsed": true
   },
   "outputs": [],
   "source": [
    "G.add_edges_from([(\"Привет\", \"кек\"), (\"кек\", \"лол\")], color = \"blue\")"
   ]
  },
  {
   "cell_type": "code",
   "execution_count": 58,
   "metadata": {
    "collapsed": false
   },
   "outputs": [
    {
     "data": {
      "image/png": "[encoded data removed]",
      "text/plain": [
       "<matplotlib.figure.Figure at 0x10c00cb70>"
      ]
     },
     "metadata": {},
     "output_type": "display_data"
    }
   ],
   "source": [
    "nx.draw_spectral(G)"
   ]
  },
  {
   "cell_type": "code",
   "execution_count": null,
   "metadata": {
    "collapsed": true
   },
   "outputs": [],
   "source": []
  }
 ],
 "metadata": {
  "kernelspec": {
   "display_name": "Python 3",
   "language": "python",
   "name": "python3"
  },
  "language_info": {
   "codemirror_mode": {
    "name": "ipython",
    "version": 3
   },
   "file_extension": ".py",
   "mimetype": "text/x-python",
   "name": "python",
   "nbconvert_exporter": "python",
   "pygments_lexer": "ipython3",
   "version": "3.5.1"
  }
 },
 "nbformat": 4,
 "nbformat_minor": 2
}
